{
 "cells": [
  {
   "cell_type": "markdown",
   "metadata": {},
   "source": [
    "## Countdown numbers Game"
   ]
  },
  {
   "cell_type": "markdown",
   "metadata": {},
   "source": [
    "\n",
    "The numbers game in the TV program Countdown challenges contestants to solve mathematical puzzles using a set of six random numbers. This game, popularized on the show, involves selecting two copies of integers from 1 to 10 and one copy each of the numbers 25, 50, 75, and 100. Additionally, a target number is randomly generated between 101 and 999. Contestants have a time limit of 30 seconds to employ basic arithmetic operations (addition, subtraction, multiplication, and division) on the given numbers to reach the target number. The key constraints include using each of the six numbers only once and ensuring that division results in a whole number, while subtraction yields positive results.\n",
    "\n",
    "To tackle this computational challenge we will crearte Python function, named solve_numbers, capable of finding a solution or returning None if none exists. The assessment evaluates the theoretical understanding of the game's computational complexity, the practical implementation of the solution function The numbers game serves as a practical application of computational theory, testing contestants' ability to devise algorithms and strategies to reach a specific numerical goal efficiently."
   ]
  }
 ],
 "metadata": {
  "kernelspec": {
   "display_name": "base",
   "language": "python",
   "name": "python3"
  },
  "language_info": {
   "name": "python",
   "version": "3.11.5"
  }
 },
 "nbformat": 4,
 "nbformat_minor": 2
}
