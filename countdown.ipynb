{
 "cells": [
  {
   "cell_type": "markdown",
   "metadata": {},
   "source": [
    "## Countdown numbers Game"
   ]
  },
  {
   "cell_type": "markdown",
   "metadata": {},
   "source": [
    "\n",
    "The numbers game in the TV program Countdown challenges contestants to solve mathematical puzzles using a set of six random numbers. This game, popularized on the show, involves selecting two copies of integers from 1 to 10 and one copy each of the numbers 25, 50, 75, and 100. Additionally, a target number is randomly generated between 101 and 999. Contestants have a time limit of 30 seconds to employ basic arithmetic operations (addition, subtraction, multiplication, and division) on the given numbers to reach the target number. The key constraints include using each of the six numbers only once and ensuring that division results in a whole number, while subtraction yields positive results.\n",
    "\n",
    "To tackle this computational challenge we will crearte Python function, named solve_numbers, capable of finding a solution or returning None if none exists. The assessment evaluates the theoretical understanding of the game's computational complexity, the practical implementation of the solution function The numbers game serves as a practical application of computational theory, testing contestants' ability to devise algorithms and strategies to reach a specific numerical goal efficiently."
   ]
  },
  {
   "cell_type": "markdown",
   "metadata": {},
   "source": [
    "## Reverse Polish Notation\n",
    "\n",
    "Reverse Polish Notation (RPN) is a mathematical expression format that eliminates the need for brackets and follows a postfix notation, where operators are placed after their operands. The key advantage of RPN is its simplicity in evaluation using a stack-based algorithm\n",
    "\n",
    "### Benefits of RPN:\n",
    "#### No Need for Brackets:\n",
    "RPN eliminates the need for brackets in expressions, ensuring unambiguous representation without the reliance on operator precedence.\n",
    "\n",
    "#### Simple Evaluation Algorithm:\n",
    "RPN expressions can be evaluated using a straightforward stack-based algorithm, requiring only a single pass from left to right.\n",
    "\n",
    "## Evaluation Algorithm and Stack:\n",
    "### Stack Operations:\n",
    "\n",
    "#### Push numbers onto the stack.\n",
    "Pop numbers from the stack when an operator is encountered, perform the operation, and push the result back onto the stack.\n",
    "Algorithm Steps:\n",
    "\n",
    "#### Read the RPN expression from left to right.\n",
    "If a number is encountered, push it onto the stack.\n",
    "If an operator is encountered, pop the required number of operands from the stack, perform the operation, and push the result back onto the stack."
   ]
  },
  {
   "cell_type": "code",
   "execution_count": 2,
   "metadata": {},
   "outputs": [
    {
     "name": "stdout",
     "output_type": "stream",
     "text": [
      "Result: 27.0\n"
     ]
    }
   ],
   "source": [
    "def evaluate_rpn(expression):\n",
    "    stack = []\n",
    "    operators = {'+': lambda x, y: x + y, '-': lambda x, y: x - y, '*': lambda x, y: x * y, '/': lambda x, y: x / y}\n",
    "\n",
    "    for token in expression:\n",
    "        if token.isdigit() or (token[0] == '-' and token[1:].isdigit()):\n",
    "            stack.append(float(token))\n",
    "        elif token in operators:\n",
    "            operand2, operand1 = stack.pop(), stack.pop()\n",
    "            result = operators[token](operand1, operand2)\n",
    "            stack.append(result)\n",
    "\n",
    "    return stack[0]\n",
    "\n",
    "# Example Usage:\n",
    "rpn_expression = [\"5\", \"4\", \"+\", \"9\", \"*\", \"6\", \"3\", \"-\", \"/\"]\n",
    "result = evaluate_rpn(rpn_expression)\n",
    "print(\"Result:\", result)\n"
   ]
  },
  {
   "cell_type": "markdown",
   "metadata": {},
   "source": [
    "### Valid RPN Expressions:\n",
    "Valid RPN expressions have one more operand than operators. The stack algorithm requires at least two numbers on the stack when an operator is encountered and exactly one number on the stack at the end of the expression.\n",
    "\n",
    "### Evaluation Trees:\n",
    "RPN expressions can be visualized as evaluation trees, where operators are internal vertices and numbers are leaves. The tree is built based on the order of operations.\n",
    "\n",
    "In summary, RPN provides a concise and easily computable representation of mathematical expressions, making it a valuable notation in certain applications.\n",
    "\n",
    "#### Refrences\n",
    "https://docs.python.org/\n",
    "\n"
   ]
  }
 ],
 "metadata": {
  "kernelspec": {
   "display_name": "base",
   "language": "python",
   "name": "python3"
  },
  "language_info": {
   "codemirror_mode": {
    "name": "ipython",
    "version": 3
   },
   "file_extension": ".py",
   "mimetype": "text/x-python",
   "name": "python",
   "nbconvert_exporter": "python",
   "pygments_lexer": "ipython3",
   "version": "3.11.5"
  }
 },
 "nbformat": 4,
 "nbformat_minor": 2
}
